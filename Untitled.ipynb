{
 "cells": [
  {
   "cell_type": "markdown",
   "metadata": {},
   "source": [
    "## K-step Arnoldi method"
   ]
  },
  {
   "cell_type": "markdown",
   "metadata": {},
   "source": [
    "Team members:\n",
    "- Porplenko Denys\n",
    "- Volodymyr Maletskyi"
   ]
  },
  {
   "cell_type": "code",
   "execution_count": 18,
   "metadata": {},
   "outputs": [],
   "source": [
    "import numpy as np\n",
    "from krypy.utils import Arnoldi\n",
    "import pandas as pd\n",
    "from IPython.display import Image\n",
    "from IPython.core.display import HTML "
   ]
  },
  {
   "cell_type": "code",
   "execution_count": 2,
   "metadata": {
    "collapsed": true
   },
   "outputs": [],
   "source": [
    "def ArnoldiKStep(A, v, n):\n",
    "    \"\"\"\n",
    "    Computes a k-step Arnoldi method\n",
    "    \"\"\"\n",
    "    Q = np.zeros((A.shape[0], n+1))\n",
    "    H = np.zeros((n+1, n))    \n",
    "          \n",
    "    Q[:, 0] = q = v/np.linalg.norm(v)                    \n",
    "    \n",
    "    for k in range(n):           \n",
    "        v = A.dot(q)            \n",
    "        for j in range(k+1):    \n",
    "            H[j, k] = np.dot(Q[:, j].conj(),v)\n",
    "            v = v - H[j, k]*Q[:, j]   \n",
    "\n",
    "        H[k+1, k] = np.linalg.norm(v)\n",
    "        eps = 1e-12             \n",
    "        if H[k+1,k] > eps:      \n",
    "            q = v / H[k+1, k]   \n",
    "            Q[:, k+1] = q\n",
    "        else:                   \n",
    "            return Q,H\n",
    "    return Q,H"
   ]
  },
  {
   "cell_type": "markdown",
   "metadata": {},
   "source": [
    "### Experiment with random (not sparse square matrix( 5000*5000))"
   ]
  },
  {
   "cell_type": "code",
   "execution_count": 3,
   "metadata": {},
   "outputs": [],
   "source": [
    "A = np.random.randint(0, high=100, size=(5000,5000))\n",
    "v = np.random.randint(0, high=100, size=(5000))\n",
    "Q,H = ArnoldiKStep(A,v,50)"
   ]
  },
  {
   "cell_type": "code",
   "execution_count": 4,
   "metadata": {},
   "outputs": [
    {
     "data": {
      "text/plain": [
       "((5000, 5000), (5000,))"
      ]
     },
     "execution_count": 4,
     "metadata": {},
     "output_type": "execute_result"
    }
   ],
   "source": [
    "A.shape, v.shape"
   ]
  },
  {
   "cell_type": "code",
   "execution_count": 5,
   "metadata": {},
   "outputs": [],
   "source": [
    "H_c = np.matmul(np.matmul(Q.T,A),Q)"
   ]
  },
  {
   "cell_type": "markdown",
   "metadata": {},
   "source": [
    "#### Compute eigenvalues from  A (5000*5000). Long operation. \n",
    "Doc https://docs.scipy.org/doc/numpy/reference/generated/numpy.linalg.eig.html"
   ]
  },
  {
   "cell_type": "code",
   "execution_count": 6,
   "metadata": {},
   "outputs": [
    {
     "name": "stdout",
     "output_type": "stream",
     "text": [
      "CPU times: user 3min 20s, sys: 1.56 s, total: 3min 22s\n",
      "Wall time: 51.2 s\n"
     ]
    },
    {
     "data": {
      "text/plain": [
       "array([ 2.47507971e+05  +0.        j,  2.06562332e+03+141.53183807j,\n",
       "        2.06562332e+03-141.53183807j, ..., -2.49381308e+01 -21.0641766 j,\n",
       "        6.01119996e+01  +0.        j,  7.07604242e+00  +0.        j])"
      ]
     },
     "execution_count": 6,
     "metadata": {},
     "output_type": "execute_result"
    }
   ],
   "source": [
    "%%time\n",
    "np.linalg.eig(A)[0]"
   ]
  },
  {
   "cell_type": "markdown",
   "metadata": {},
   "source": [
    "#### Compute eigenvalues from Hessenberg matrix. "
   ]
  },
  {
   "cell_type": "code",
   "execution_count": 7,
   "metadata": {
    "scrolled": false
   },
   "outputs": [
    {
     "name": "stdout",
     "output_type": "stream",
     "text": [
      "CPU times: user 2.41 ms, sys: 783 µs, total: 3.2 ms\n",
      "Wall time: 1.67 ms\n"
     ]
    },
    {
     "data": {
      "text/plain": [
       "array([ 2.47507971e+05   +0.        j,  1.98897176e+03   +0.        j,\n",
       "        1.92801513e+03 +393.02285787j,  1.92801513e+03 -393.02285787j,\n",
       "        1.84941982e+03 +587.3694461 j,  1.84941982e+03 -587.3694461 j,\n",
       "        1.76564631e+03   +0.        j,  1.70150514e+03 +903.04939279j,\n",
       "        1.70150514e+03 -903.04939279j,  1.54141434e+03+1225.87434414j,\n",
       "        1.54141434e+03-1225.87434414j,  1.46422423e+03 +989.89500652j,\n",
       "        1.46422423e+03 -989.89500652j,  1.30966281e+03+1499.05593424j,\n",
       "        1.30966281e+03-1499.05593424j,  1.08627195e+03+1576.4492127 j,\n",
       "        1.08627195e+03-1576.4492127 j,  8.48995576e+02+1793.61898015j,\n",
       "        8.48995576e+02-1793.61898015j,  6.27616364e+02+1880.23210883j,\n",
       "        6.27616364e+02-1880.23210883j,  3.36986122e+02+1962.73343702j,\n",
       "        3.36986122e+02-1962.73343702j,  6.80395033e+01+1908.3194859 j,\n",
       "        6.80395033e+01-1908.3194859 j, -1.93899589e+03   +0.        j,\n",
       "       -1.89881306e+03 +259.49742419j, -1.89881306e+03 -259.49742419j,\n",
       "       -1.82056226e+03 +552.49505307j, -1.82056226e+03 -552.49505307j,\n",
       "       -1.74194663e+03 +795.80220098j, -1.74194663e+03 -795.80220098j,\n",
       "       -1.68255106e+03+1095.36094428j, -1.68255106e+03-1095.36094428j,\n",
       "       -1.45684213e+03+1332.69842153j, -1.45684213e+03-1332.69842153j,\n",
       "       -1.32379083e+03+1278.48694305j, -1.32379083e+03-1278.48694305j,\n",
       "       -2.84710837e+02+1920.72184329j, -2.84710837e+02-1920.72184329j,\n",
       "       -5.84820738e+02+1877.16632867j, -5.84820738e+02-1877.16632867j,\n",
       "       -9.92668285e+02+1687.39743695j, -9.92668285e+02-1687.39743695j,\n",
       "       -8.72527879e+02+1639.95324698j, -8.72527879e+02-1639.95324698j,\n",
       "       -1.05028023e+03   +0.        j, -1.50317398e+02+1469.87580797j,\n",
       "       -1.50317398e+02-1469.87580797j, -2.87095844e+02+1091.96086682j,\n",
       "       -2.87095844e+02-1091.96086682j])"
      ]
     },
     "execution_count": 7,
     "metadata": {},
     "output_type": "execute_result"
    }
   ],
   "source": [
    "%%time\n",
    "np.linalg.eig(H_c)[0]"
   ]
  },
  {
   "cell_type": "markdown",
   "metadata": {},
   "source": [
    "Conclusion: You can see, that eigenvalues from A and Hessenberg matrix H are the same.  But the time of computing eigenvalues from A is 3min 22s, but from Hessenberg is 3.2 ms. Sure, from Hessenberg we have only 50 eigenvalues, but in the most practical application, it is enough."
   ]
  },
  {
   "cell_type": "markdown",
   "metadata": {},
   "source": [
    "### Experiment with real datasets. Source: https://sparse.tamu.edu/Quaglino/viscoplastic1"
   ]
  },
  {
   "cell_type": "code",
   "execution_count": 8,
   "metadata": {
    "collapsed": true
   },
   "outputs": [],
   "source": [
    "from scipy.io import loadmat"
   ]
  },
  {
   "cell_type": "code",
   "execution_count": 9,
   "metadata": {},
   "outputs": [],
   "source": [
    "#A = loadmat('data/bcsstm21.mat')[\"Problem\"][0][0][1].toarray()\n",
    "A = loadmat('data/c-26.mat')[\"Problem\"][0][0][4].toarray()\n",
    "#A = loadmat('data/viscoplastic1.mat')[\"Problem\"][0][0][2].toarray()\n",
    "#A = np.random.randint(-100, high=100, size=(5000,5000))\n",
    "v = np.random.random(size=A.shape[0])"
   ]
  },
  {
   "cell_type": "code",
   "execution_count": 19,
   "metadata": {
    "scrolled": false
   },
   "outputs": [
    {
     "data": {
      "text/html": [
       "<img src=\"https://sparse.tamu.edu/files/Quaglino/viscoplastic1.png\"/>"
      ],
      "text/plain": [
       "<IPython.core.display.Image object>"
      ]
     },
     "execution_count": 19,
     "metadata": {},
     "output_type": "execute_result"
    }
   ],
   "source": [
    "Image(url= \"https://sparse.tamu.edu/files/Quaglino/viscoplastic1.png\")"
   ]
  },
  {
   "cell_type": "code",
   "execution_count": 21,
   "metadata": {},
   "outputs": [
    {
     "data": {
      "text/html": [
       "<img src=\"http://dl3.joxi.net/drive/2019/01/25/0026/3152/1727568/68/2105d3dfe2.jpg\"/>"
      ],
      "text/plain": [
       "<IPython.core.display.Image object>"
      ]
     },
     "execution_count": 21,
     "metadata": {},
     "output_type": "execute_result"
    }
   ],
   "source": [
    "Image(url= \"http://dl3.joxi.net/drive/2019/01/25/0026/3152/1727568/68/2105d3dfe2.jpg\")"
   ]
  },
  {
   "cell_type": "markdown",
   "metadata": {},
   "source": [
    "#### Shape of matrix: 4307*4307"
   ]
  },
  {
   "cell_type": "code",
   "execution_count": 10,
   "metadata": {},
   "outputs": [
    {
     "data": {
      "text/plain": [
       "((4307, 4307), (4307,))"
      ]
     },
     "execution_count": 10,
     "metadata": {},
     "output_type": "execute_result"
    }
   ],
   "source": [
    "A.shape, v.shape"
   ]
  },
  {
   "cell_type": "code",
   "execution_count": 11,
   "metadata": {},
   "outputs": [],
   "source": [
    "Q,H = ArnoldiKStep(A,v,50)"
   ]
  },
  {
   "cell_type": "code",
   "execution_count": 12,
   "metadata": {},
   "outputs": [],
   "source": [
    "H_c = np.matmul(np.matmul(Q.T,A),Q)"
   ]
  },
  {
   "cell_type": "markdown",
   "metadata": {},
   "source": [
    "#### Compute eigenvalues from  A ( 4307*4307). Long operation. \n",
    "Doc https://docs.scipy.org/doc/numpy/reference/generated/numpy.linalg.eig.html"
   ]
  },
  {
   "cell_type": "code",
   "execution_count": 13,
   "metadata": {},
   "outputs": [
    {
     "name": "stdout",
     "output_type": "stream",
     "text": [
      "CPU times: user 2min 13s, sys: 1.24 s, total: 2min 14s\n",
      "Wall time: 34.1 s\n"
     ]
    },
    {
     "data": {
      "text/plain": [
       "array([5.18812708e+05, 5.82359389e+04, 1.33894014e+04, ...,\n",
       "       9.67409180e-02, 9.67853750e-02, 9.67708611e-02])"
      ]
     },
     "execution_count": 13,
     "metadata": {},
     "output_type": "execute_result"
    }
   ],
   "source": [
    "%%time\n",
    "np.linalg.eig(A)[0]"
   ]
  },
  {
   "cell_type": "markdown",
   "metadata": {},
   "source": [
    "#### Compute eigenvalues from Hessinberg matrix. "
   ]
  },
  {
   "cell_type": "code",
   "execution_count": 17,
   "metadata": {},
   "outputs": [
    {
     "name": "stdout",
     "output_type": "stream",
     "text": [
      "CPU times: user 1.88 ms, sys: 769 µs, total: 2.65 ms\n",
      "Wall time: 1.1 ms\n"
     ]
    },
    {
     "data": {
      "text/plain": [
       "array([ 5.18812708e+05,  5.82359389e+04,  1.33894014e+04,  1.25589042e+04,\n",
       "        1.10497530e+04,  8.42636979e+03,  7.95691045e+03,  4.17142179e+03,\n",
       "        3.31762120e+03,  2.82387441e+03,  2.75057056e+03,  2.63047598e+03,\n",
       "        2.54260862e+03,  2.31218797e+03,  2.27972635e+03,  2.27440407e+03,\n",
       "        1.66802494e+03,  1.59400707e+03,  1.50160894e+03,  1.23297111e+03,\n",
       "        1.14462921e+03,  1.10114064e+03,  9.48870433e+02,  9.23286134e+02,\n",
       "        6.81014810e+02,  6.19168403e+02,  6.06268680e+02,  5.80155671e+02,\n",
       "        5.67240293e+02,  5.12306577e+02,  4.85420194e+02,  4.49059276e+02,\n",
       "        4.21341456e+02,  3.79094306e+02,  3.00428849e+02,  2.75645750e+02,\n",
       "        2.38108850e+02,  2.05722927e+02,  1.65379357e+02, -6.54204065e+01,\n",
       "       -5.75228276e+01, -5.13569230e+01, -4.31265851e+01, -2.32839632e+01,\n",
       "       -5.96209747e+00,  1.48240243e+00,  2.07207643e+01,  4.29726009e+01,\n",
       "        1.32434096e+02,  7.03910368e+01,  1.01780139e+02])"
      ]
     },
     "execution_count": 17,
     "metadata": {},
     "output_type": "execute_result"
    }
   ],
   "source": [
    "%%time\n",
    "np.linalg.eig(H_c)[0]"
   ]
  },
  {
   "cell_type": "markdown",
   "metadata": {},
   "source": [
    "Conclusion: You can see, that eigenvalues from A and Hessenberg matrix H are the same.  But the time of computing eigenvalues from A is 2min 14s, but from Hessenberg is 1.88 ms. Sure, from Hessenberg we have only 50 eigenvalues, but in the most practical application, it is enough."
   ]
  },
  {
   "cell_type": "code",
   "execution_count": null,
   "metadata": {
    "collapsed": true
   },
   "outputs": [],
   "source": []
  }
 ],
 "metadata": {
  "kernelspec": {
   "display_name": "Python (rl_py3)",
   "language": "python",
   "name": "rl_py3"
  },
  "language_info": {
   "codemirror_mode": {
    "name": "ipython",
    "version": 3
   },
   "file_extension": ".py",
   "mimetype": "text/x-python",
   "name": "python",
   "nbconvert_exporter": "python",
   "pygments_lexer": "ipython3",
   "version": "3.6.4"
  }
 },
 "nbformat": 4,
 "nbformat_minor": 2
}
