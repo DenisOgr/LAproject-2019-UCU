{
 "cells": [
  {
   "cell_type": "markdown",
   "metadata": {},
   "source": [
    "## K-step Arnoldi method"
   ]
  },
  {
   "cell_type": "markdown",
   "metadata": {},
   "source": [
    "Team members:\n",
    "- Porplenko Denys\n",
    "- Volodymyr Maletskyi"
   ]
  },
  {
   "cell_type": "code",
   "execution_count": 109,
   "metadata": {},
   "outputs": [],
   "source": [
    "import numpy as np\n",
    "from krypy.utils import Arnoldi\n",
    "import pandas as pd"
   ]
  },
  {
   "cell_type": "code",
   "execution_count": 262,
   "metadata": {
    "collapsed": true
   },
   "outputs": [],
   "source": [
    "def ArnoldiKStep(A, v, n):\n",
    "    \"\"\"\n",
    "    Computes a k-step Arnoldi method\n",
    "    \"\"\"\n",
    "    Q = np.zeros((A.shape[0], n+1))\n",
    "    H = np.zeros((n+1, n))    \n",
    "          \n",
    "    Q[:, 0] = q = v/np.linalg.norm(v)                    \n",
    "    \n",
    "    for k in range(n):           \n",
    "        v = A.dot(q)            \n",
    "        for j in range(k+1):    \n",
    "            H[j, k] = np.dot(Q[:, j].conj(),v)\n",
    "            v = v - H[j, k]*Q[:, j]   \n",
    "\n",
    "        H[k+1, k] = np.linalg.norm(v)\n",
    "        eps = 1e-12             \n",
    "        if H[k+1,k] > eps:      \n",
    "            q = v / H[k+1, k]   \n",
    "            Q[:, k+1] = q\n",
    "        else:                   \n",
    "            return Q,H\n",
    "    return Q,H"
   ]
  },
  {
   "cell_type": "markdown",
   "metadata": {},
   "source": [
    "### Experiment with random (not sparse square matrix( 5000*5000))"
   ]
  },
  {
   "cell_type": "code",
   "execution_count": 263,
   "metadata": {},
   "outputs": [],
   "source": [
    "A = np.random.randint(0, high=100, size=(5000,5000))\n",
    "v = np.random.randint(0, high=100, size=(5000))\n",
    "Q,H = ArnoldiKStep(A,v,50)"
   ]
  },
  {
   "cell_type": "code",
   "execution_count": 267,
   "metadata": {},
   "outputs": [
    {
     "data": {
      "text/plain": [
       "((5000, 5000), (5000,))"
      ]
     },
     "execution_count": 267,
     "metadata": {},
     "output_type": "execute_result"
    }
   ],
   "source": [
    "A.shape, v.shape"
   ]
  },
  {
   "cell_type": "code",
   "execution_count": 268,
   "metadata": {},
   "outputs": [],
   "source": [
    "H_c = np.matmul(np.matmul(Q.T,A),Q)"
   ]
  },
  {
   "cell_type": "markdown",
   "metadata": {},
   "source": [
    "#### Compute eigenvalues from  A (5000*5000). Long operation. \n",
    "Doc https://docs.scipy.org/doc/numpy/reference/generated/numpy.linalg.eig.html"
   ]
  },
  {
   "cell_type": "code",
   "execution_count": null,
   "metadata": {},
   "outputs": [],
   "source": [
    "%%time\n",
    "np.linalg.eig(A)[0]"
   ]
  },
  {
   "cell_type": "markdown",
   "metadata": {},
   "source": [
    "#### Compute eigenvalues from Hessinberg matrix. "
   ]
  },
  {
   "cell_type": "code",
   "execution_count": 271,
   "metadata": {
    "scrolled": false
   },
   "outputs": [
    {
     "name": "stdout",
     "output_type": "stream",
     "text": [
      "CPU times: user 2.32 ms, sys: 907 µs, total: 3.22 ms\n",
      "Wall time: 1.5 ms\n"
     ]
    },
    {
     "data": {
      "text/plain": [
       "array([ 2.47485599e+05   +0.        j,  1.87561985e+03 +452.39045785j,\n",
       "        1.87561985e+03 -452.39045785j,  1.86321590e+03 +172.81820581j,\n",
       "        1.86321590e+03 -172.81820581j,  1.81755806e+03   +0.        j,\n",
       "        1.76621382e+03 +749.39582669j,  1.76621382e+03 -749.39582669j,\n",
       "        1.65315531e+03+1009.09957758j,  1.65315531e+03-1009.09957758j,\n",
       "        1.44670176e+03+1345.57420311j,  1.44670176e+03-1345.57420311j,\n",
       "        1.45874671e+03+1146.73879684j,  1.45874671e+03-1146.73879684j,\n",
       "        1.18768475e+03+1575.55577341j,  1.18768475e+03-1575.55577341j,\n",
       "        9.92300903e+02+1685.80726039j,  9.92300903e+02-1685.80726039j,\n",
       "        7.18585964e+02+1773.68799053j,  7.18585964e+02-1773.68799053j,\n",
       "        4.60901165e+02+1901.19874701j,  4.60901165e+02-1901.19874701j,\n",
       "        2.15264333e+02+1919.58596638j,  2.15264333e+02-1919.58596638j,\n",
       "       -1.90541279e+03  +69.08204026j, -1.90541279e+03  -69.08204026j,\n",
       "       -1.88469921e+03 +406.32117287j, -1.88469921e+03 -406.32117287j,\n",
       "       -1.89029907e+03 +663.8699183 j, -1.89029907e+03 -663.8699183 j,\n",
       "       -1.74346362e+03 +900.44047693j, -1.74346362e+03 -900.44047693j,\n",
       "       -1.44457604e+03+1097.88632221j, -1.44457604e+03-1097.88632221j,\n",
       "       -1.41169342e+03+1286.66768403j, -1.41169342e+03-1286.66768403j,\n",
       "       -1.23227445e+03+1554.07359492j, -1.23227445e+03-1554.07359492j,\n",
       "       -1.42505977e+02+1982.92436664j, -1.42505977e+02-1982.92436664j,\n",
       "       -9.67917670e+02+1609.06550065j, -9.67917670e+02-1609.06550065j,\n",
       "       -5.75596924e+02+1901.49137726j, -5.75596924e+02-1901.49137726j,\n",
       "       -5.69492361e+02+1695.29121001j, -5.69492361e+02-1695.29121001j,\n",
       "       -3.91647014e+02+1682.68275777j, -3.91647014e+02-1682.68275777j,\n",
       "       -5.94348625e+02 +888.87332513j, -5.94348625e+02 -888.87332513j,\n",
       "        6.68859231e+02   +0.        j])"
      ]
     },
     "execution_count": 271,
     "metadata": {},
     "output_type": "execute_result"
    }
   ],
   "source": [
    "%%time\n",
    "np.linalg.eig(H_c)[0]"
   ]
  },
  {
   "cell_type": "markdown",
   "metadata": {},
   "source": [
    "Conclusion: You can see, that eigenvalues from A and from Hessinberg matrix H are the same. "
   ]
  },
  {
   "cell_type": "markdown",
   "metadata": {},
   "source": [
    "### Experiment with real datasets. Source: https://sparse.tamu.edu/Quaglino/viscoplastic1"
   ]
  },
  {
   "cell_type": "code",
   "execution_count": 14,
   "metadata": {
    "collapsed": true
   },
   "outputs": [],
   "source": [
    "from scipy.io import loadmat"
   ]
  },
  {
   "cell_type": "code",
   "execution_count": 217,
   "metadata": {},
   "outputs": [],
   "source": [
    "#A = loadmat('data/bcsstm21.mat')[\"Problem\"][0][0][1].toarray()\n",
    "A = loadmat('data/c-26.mat')[\"Problem\"][0][0][4].toarray()\n",
    "#A = loadmat('data/viscoplastic1.mat')[\"Problem\"][0][0][2].toarray()\n",
    "#A = np.random.randint(-100, high=100, size=(5000,5000))\n",
    "v = np.random.random(size=A.shape[0])"
   ]
  },
  {
   "cell_type": "markdown",
   "metadata": {},
   "source": [
    "#### Shape of matrix: 4307*4307"
   ]
  },
  {
   "cell_type": "code",
   "execution_count": 218,
   "metadata": {},
   "outputs": [
    {
     "data": {
      "text/plain": [
       "((4307, 4307), (4307,))"
      ]
     },
     "execution_count": 218,
     "metadata": {},
     "output_type": "execute_result"
    }
   ],
   "source": [
    "A.shape, v.shape"
   ]
  },
  {
   "cell_type": "code",
   "execution_count": 260,
   "metadata": {},
   "outputs": [],
   "source": [
    "Q,H = arnoldi_iteration(A,v,50)"
   ]
  },
  {
   "cell_type": "code",
   "execution_count": 220,
   "metadata": {},
   "outputs": [],
   "source": [
    "H_c = np.matmul(np.matmul(Q.T,A),Q)"
   ]
  },
  {
   "cell_type": "markdown",
   "metadata": {},
   "source": [
    "#### Compute eigenvalues from  A ( 4307*4307). Long operation. \n",
    "Doc https://docs.scipy.org/doc/numpy/reference/generated/numpy.linalg.eig.html"
   ]
  },
  {
   "cell_type": "code",
   "execution_count": 258,
   "metadata": {},
   "outputs": [
    {
     "data": {
      "text/plain": [
       "array([ 2.47489021e+05   +0.        j, -9.46378034e+02+1826.80527269j,\n",
       "       -9.46378034e+02-1826.80527269j, ...,\n",
       "        1.27354396e+00  -30.70877607j,  1.90198673e+01   +0.        j,\n",
       "       -1.12442967e+01   +0.        j])"
      ]
     },
     "execution_count": 258,
     "metadata": {},
     "output_type": "execute_result"
    }
   ],
   "source": [
    "np.linalg.eig(A)[0]"
   ]
  },
  {
   "cell_type": "code",
   "execution_count": 259,
   "metadata": {
    "collapsed": true
   },
   "outputs": [],
   "source": [
    "#### Compute eigenvalues from Hessinberg matrix. Quick opearion. Get 50 same eigenvectors from A "
   ]
  },
  {
   "cell_type": "code",
   "execution_count": 221,
   "metadata": {},
   "outputs": [
    {
     "data": {
      "text/plain": [
       "array([5.18787127e+05, 1.57879579e+01, 5.52468828e+04])"
      ]
     },
     "execution_count": 221,
     "metadata": {},
     "output_type": "execute_result"
    }
   ],
   "source": [
    "np.linalg.eig(H_c)[0]"
   ]
  },
  {
   "cell_type": "code",
   "execution_count": 222,
   "metadata": {},
   "outputs": [
    {
     "data": {
      "text/plain": [
       "array([5.18812708e+05, 5.82359389e+04, 1.33894014e+04, ...,\n",
       "       9.67409180e-02, 9.67853750e-02, 9.67708611e-02])"
      ]
     },
     "execution_count": 222,
     "metadata": {},
     "output_type": "execute_result"
    }
   ],
   "source": []
  },
  {
   "cell_type": "code",
   "execution_count": null,
   "metadata": {
    "collapsed": true
   },
   "outputs": [],
   "source": []
  }
 ],
 "metadata": {
  "kernelspec": {
   "display_name": "Python (rl_py3)",
   "language": "python",
   "name": "rl_py3"
  },
  "language_info": {
   "codemirror_mode": {
    "name": "ipython",
    "version": 3
   },
   "file_extension": ".py",
   "mimetype": "text/x-python",
   "name": "python",
   "nbconvert_exporter": "python",
   "pygments_lexer": "ipython3",
   "version": "3.6.4"
  }
 },
 "nbformat": 4,
 "nbformat_minor": 2
}
